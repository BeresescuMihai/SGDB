{
  "nbformat": 4,
  "nbformat_minor": 0,
  "metadata": {
    "colab": {
      "name": "Copy of MIB2021-lab01-02.ipynb",
      "provenance": [],
      "collapsed_sections": [],
      "include_colab_link": true
    },
    "kernelspec": {
      "name": "python3",
      "display_name": "Python 3"
    }
  },
  "cells": [
    {
      "cell_type": "markdown",
      "metadata": {
        "id": "view-in-github",
        "colab_type": "text"
      },
      "source": [
        "<a href=\"https://colab.research.google.com/github/BeresescuMihai/SGDB/blob/master/Copy_of_MIB2021_lab01_02.ipynb\" target=\"_parent\"><img src=\"https://colab.research.google.com/assets/colab-badge.svg\" alt=\"Open In Colab\"/></a>"
      ]
    },
    {
      "cell_type": "markdown",
      "metadata": {
        "id": "qw8svAr0OpSR"
      },
      "source": [
        "# Tipuri de celule\n",
        "\n",
        "Un document interactiv Colab conține două tipuri de celule: cod și text (**formatat** *dacă* `este` nevoie). Acesta este o celulă de tip text. "
      ]
    },
    {
      "cell_type": "code",
      "metadata": {
        "colab": {
          "base_uri": "https://localhost:8080/"
        },
        "id": "No4DvZHoPekX",
        "outputId": "4c7152e0-71e9-469d-9be2-ca890b3a1bf4"
      },
      "source": [
        "# Pentru rulare apăsați butonul play din stânga sau selectați celula și apăsați Shift+Enter\n",
        "print('Iar acesta este o celulă de tip cod.')"
      ],
      "execution_count": null,
      "outputs": [
        {
          "output_type": "stream",
          "text": [
            "Iar acesta este o celulă de tip cod.\n"
          ],
          "name": "stdout"
        }
      ]
    },
    {
      "cell_type": "markdown",
      "metadata": {
        "id": "DONllmdBQE5f"
      },
      "source": [
        "# Comenzi sistem\n",
        "\n",
        "Notebook-ul Colab rulează într-o mașină virtuală la care avem accesa direct. Pentru a rula comenzi în terminalul VM, acestea trebuie prefixate cu semnul exclamării.  "
      ]
    },
    {
      "cell_type": "code",
      "metadata": {
        "id": "NKHIzuH-QEHJ"
      },
      "source": [
        "!touch fisiernou1.txt\n",
        "!echo \"Hello, World!\" > fisiernou2.txt\n",
        "print('Listare fisiere\\n')\n",
        "!ls -l\n",
        "print('Calea directorului de lucru actual este:\\n')\n",
        "!pwd\n",
        "print('Listare continut fisiernou2.txt\\n')\n",
        "!cat fisiernou2.txt"
      ],
      "execution_count": null,
      "outputs": []
    },
    {
      "cell_type": "code",
      "metadata": {
        "id": "p6a-BBVfTdKW"
      },
      "source": [
        "print('Listare versiune Python\\n')\n",
        "!python --version"
      ],
      "execution_count": null,
      "outputs": []
    },
    {
      "cell_type": "code",
      "metadata": {
        "id": "v20votZ-T3im"
      },
      "source": [
        "print('Listare informatii VM\\n')\n",
        "!df -h\n",
        "!lscpu\n",
        "!cat /proc/cpuinfo\n",
        "!cat /proc/meminfo | egrep 'MemTotal'\n"
      ],
      "execution_count": null,
      "outputs": []
    },
    {
      "cell_type": "code",
      "metadata": {
        "colab": {
          "base_uri": "https://localhost:8080/"
        },
        "id": "POhxnkYdSlr3",
        "outputId": "a62155da-0439-4ad0-82ab-29fbdb3b9ff0"
      },
      "source": [
        "print('Stergerea fisierelor txt create\\n')\n",
        "!rm *.txt\n",
        "!ls"
      ],
      "execution_count": null,
      "outputs": [
        {
          "output_type": "stream",
          "text": [
            "Stergerea fisierelor txt create\n",
            "\n",
            "sample_data\n"
          ],
          "name": "stdout"
        }
      ]
    },
    {
      "cell_type": "code",
      "metadata": {
        "id": "kY9Tpq4rVkUE"
      },
      "source": [
        "print('Instalarea unor librarii Python cu pip\\n')\n",
        "!pip install deap"
      ],
      "execution_count": null,
      "outputs": []
    },
    {
      "cell_type": "markdown",
      "metadata": {
        "id": "V1_cqTD3piOt"
      },
      "source": [
        "# Încărcare și descărcare de date\n",
        "\n",
        "Datele necesare procesării în Google Colab pot fi încărcate interactiv, montate în Google Drive sau importate din orice sursă de pe internet. La fel, salvarea se poate face în Google Drive sau fișierele pot fi descărcate."
      ]
    },
    {
      "cell_type": "markdown",
      "metadata": {
        "id": "1yxf2fvkWsdo"
      },
      "source": [
        "## Încărcarea fișierelor din sistemul de fișiere local \n",
        "\n",
        "`files.upload` returnează un dicționar al fișierelor încărcate. \n"
      ]
    },
    {
      "cell_type": "code",
      "metadata": {
        "id": "ebiYVKFQLUPK"
      },
      "source": [
        "from google.colab import files\n",
        "\n",
        "uploaded = files.upload()\n",
        "\n",
        "for fn in uploaded.keys():\n",
        "  print('A fost incarcat fisierul \"{name}\" de marimea {length} bytes'.format(\n",
        "      name=fn, length=len(uploaded[fn])))"
      ],
      "execution_count": null,
      "outputs": []
    },
    {
      "cell_type": "markdown",
      "metadata": {
        "id": "mGehZxupctea"
      },
      "source": [
        "## Descărcarea fișierelor\n",
        "\n",
        "`files.download` va invoca o descărcare prin browser a fișierlor. "
      ]
    },
    {
      "cell_type": "code",
      "metadata": {
        "id": "ZvW3s1NPXHE2"
      },
      "source": [
        "from google.colab import files\n",
        "import random\n",
        "\n",
        "x = random.choices(range(0, 9), k=20)\n",
        "print(x)\n",
        "\n",
        "with open('numere.txt', 'w') as f:\n",
        "  f.write(str(x))\n",
        "\n",
        "!cat numere.txt\n",
        "\n",
        "files.download('numere.txt')"
      ],
      "execution_count": null,
      "outputs": []
    },
    {
      "cell_type": "markdown",
      "metadata": {
        "id": "ApRO4XZIdLu7"
      },
      "source": [
        "## Montarea Google Drive\n",
        "\n",
        "Google Drive se poate monta pe runtime folosind un cod de autorizare obținut după un pas de logare-autorizare cu contul Google asociat. După montare, fișierele din Drive sunt accesibile pentru citire și scriere. "
      ]
    },
    {
      "cell_type": "code",
      "metadata": {
        "colab": {
          "base_uri": "https://localhost:8080/"
        },
        "id": "5ONMDxXWa21i",
        "outputId": "839131e1-e4ba-4aaf-9251-251882987333"
      },
      "source": [
        "from google.colab import drive\n",
        "drive.mount('/content/drive')"
      ],
      "execution_count": null,
      "outputs": [
        {
          "output_type": "stream",
          "text": [
            "Mounted at /content/drive\n"
          ],
          "name": "stdout"
        }
      ]
    },
    {
      "cell_type": "code",
      "metadata": {
        "id": "O9d1bzLarEve"
      },
      "source": [
        "!ls '/content/drive/MyDrive'"
      ],
      "execution_count": null,
      "outputs": []
    },
    {
      "cell_type": "code",
      "metadata": {
        "id": "0Nr-pcMArNHu"
      },
      "source": [
        "with open('/content/drive/MyDrive/hello.txt', 'w') as f:\n",
        "  f.write('Hello, Google Drive!')\n",
        "!cat '/content/drive/MyDrive/hello.txt'"
      ],
      "execution_count": null,
      "outputs": []
    },
    {
      "cell_type": "code",
      "metadata": {
        "id": "dqpDtki8rly5"
      },
      "source": [
        "drive.flush_and_unmount()\n",
        "print('Toate modificarile efectuate in aceasta sesiune colab sunt acum vizibile în Drive. Verificati accesand drive.google.com')"
      ],
      "execution_count": null,
      "outputs": []
    },
    {
      "cell_type": "markdown",
      "metadata": {
        "id": "9ehupmW71MvZ"
      },
      "source": [
        "\n",
        "\n",
        "---\n",
        "\n",
        "\n"
      ]
    },
    {
      "cell_type": "markdown",
      "metadata": {
        "id": "gaQsvLaHsFPW"
      },
      "source": [
        "# Exerciții\n",
        "\n",
        "\n",
        "1.   Pentru reîmprospătarea și aprofundarea cunoștințelor Python, rulați selectiv exemplele din tutorialul [A Crash Course in Python for Scientists](https://nbviewer.jupyter.org/gist/rpmuller/5920182) în acest notebook, prin inserarea de noi celule cod. Unele exemple trebuie adaptate pentru Python 3 (ex. `print x` devine `print(x)`, `7/3` nu este trunchiat, rezultatul va fi deja tip `float` etc.).\n",
        "2.   Încărcați acest [fișier csv](https://people.sc.fsu.edu/~jburkardt/data/csv/hw_200.csv) în Google Drive-ul personal. Apoi,\n",
        "    * citiți fișierul din Drive și transformați datele în sistemul metric (cm și kg);\n",
        "    * vizualizați datele cu ajutorul unui [scatterplot](https://pythonspot.com/matplotlib-scatterplot/);\n",
        "    * [salvați](https://matplotlib.org/3.1.1/api/_as_gen/matplotlib.pyplot.savefig.html) și descărcați imaginea obținută pe calculator ([nu uitați să etichetați axele](https://matplotlib.org/3.1.0/gallery/pyplots/fig_axes_labels_simple.html));\n",
        "    * afișați care este înălțimea și greutatea minimă, maximă și medie. \n",
        "3. [Generați aleatoriu](https://www.geeksforgeeks.org/random-choices-method-in-python/) 10000 de șiruri binare de lungime 100.\n",
        "4. Calculați suma de biți pentru fiecare șir și vizualizați distribuția sumelor cu o [histogramă](https://matplotlib.org/3.1.1/gallery/statistics/hist.html). \n",
        "5. Salvați într-un fișier din Google Drive șirurile a căror sumă depășește 70.\n",
        "\n",
        "\n",
        "\n",
        "\n",
        "\n"
      ]
    },
    {
      "cell_type": "code",
      "metadata": {
        "id": "_SP_niYXtUtE",
        "colab": {
          "base_uri": "https://localhost:8080/"
        },
        "outputId": "4021fc7c-255b-48d9-823f-b9f0f8811c8b"
      },
      "source": [
        "7/float(3)"
      ],
      "execution_count": null,
      "outputs": [
        {
          "output_type": "execute_result",
          "data": {
            "text/plain": [
              "2.3333333333333335"
            ]
          },
          "metadata": {
            "tags": []
          },
          "execution_count": 18
        }
      ]
    },
    {
      "cell_type": "code",
      "metadata": {
        "id": "KFHApgHJtWJ5",
        "colab": {
          "base_uri": "https://localhost:8080/"
        },
        "outputId": "ae6f086e-3385-4173-d72f-dc1139f6a2cf"
      },
      "source": [
        "int(7/float(3))\r\n"
      ],
      "execution_count": null,
      "outputs": [
        {
          "output_type": "execute_result",
          "data": {
            "text/plain": [
              "2"
            ]
          },
          "metadata": {
            "tags": []
          },
          "execution_count": 19
        }
      ]
    },
    {
      "cell_type": "code",
      "metadata": {
        "id": "_VwsjFG2tX1I"
      },
      "source": [
        "days_of_the_week = [\"Sunday\",\"Monday\",\"Tuesday\",\"Wednesday\",\"Thursday\",\"Friday\",\"Saturday\"]"
      ],
      "execution_count": null,
      "outputs": []
    },
    {
      "cell_type": "code",
      "metadata": {
        "id": "60C5buLTtcUP",
        "colab": {
          "base_uri": "https://localhost:8080/"
        },
        "outputId": "42ef132a-ddea-4029-f869-300f12c7c8be"
      },
      "source": [
        "for day in days_of_the_week:\r\n",
        "    print(day)"
      ],
      "execution_count": null,
      "outputs": [
        {
          "output_type": "stream",
          "text": [
            "Sunday\n",
            "Monday\n",
            "Tuesday\n",
            "Wednesday\n",
            "Thursday\n",
            "Friday\n",
            "Saturday\n"
          ],
          "name": "stdout"
        }
      ]
    },
    {
      "cell_type": "code",
      "metadata": {
        "id": "5aBLE0Iitd9e",
        "colab": {
          "base_uri": "https://localhost:8080/"
        },
        "outputId": "20b917df-4338-48d1-9b2c-79cb8216ade3"
      },
      "source": [
        "n = 10\r\n",
        "sequence = [0,1]\r\n",
        "for i in range(2,n): # This is going to be a problem if we ever set n <= 2!\r\n",
        "    sequence.append(sequence[i-1]+sequence[i-2])\r\n",
        "print(sequence)"
      ],
      "execution_count": null,
      "outputs": [
        {
          "output_type": "stream",
          "text": [
            "[0, 1, 1, 2, 3, 5, 8, 13, 21, 34]\n"
          ],
          "name": "stdout"
        }
      ]
    },
    {
      "cell_type": "code",
      "metadata": {
        "id": "ibVwP-17tide",
        "colab": {
          "base_uri": "https://localhost:8080/",
          "height": 195
        },
        "outputId": "43a854ab-a0d7-4718-ae96-a0f01e31b97f"
      },
      "source": [
        "import pandas as pd \r\n",
        "# Read data from file 'filename.csv' \r\n",
        "# (in the same directory that your python process is based)\r\n",
        "# Control delimiters, rows, column names with read_csv (see later) \r\n",
        "data = pd.read_csv(\"hw_200.csv\") \r\n",
        "# Preview the first 5 lines of the loaded data \r\n",
        "data.head()"
      ],
      "execution_count": 23,
      "outputs": [
        {
          "output_type": "execute_result",
          "data": {
            "text/html": [
              "<div>\n",
              "<style scoped>\n",
              "    .dataframe tbody tr th:only-of-type {\n",
              "        vertical-align: middle;\n",
              "    }\n",
              "\n",
              "    .dataframe tbody tr th {\n",
              "        vertical-align: top;\n",
              "    }\n",
              "\n",
              "    .dataframe thead th {\n",
              "        text-align: right;\n",
              "    }\n",
              "</style>\n",
              "<table border=\"1\" class=\"dataframe\">\n",
              "  <thead>\n",
              "    <tr style=\"text-align: right;\">\n",
              "      <th></th>\n",
              "      <th>Index</th>\n",
              "      <th>Height(Inches)\"</th>\n",
              "      <th>\"Weight(Pounds)\"</th>\n",
              "    </tr>\n",
              "  </thead>\n",
              "  <tbody>\n",
              "    <tr>\n",
              "      <th>0</th>\n",
              "      <td>1</td>\n",
              "      <td>65.78</td>\n",
              "      <td>112.99</td>\n",
              "    </tr>\n",
              "    <tr>\n",
              "      <th>1</th>\n",
              "      <td>2</td>\n",
              "      <td>71.52</td>\n",
              "      <td>136.49</td>\n",
              "    </tr>\n",
              "    <tr>\n",
              "      <th>2</th>\n",
              "      <td>3</td>\n",
              "      <td>69.40</td>\n",
              "      <td>153.03</td>\n",
              "    </tr>\n",
              "    <tr>\n",
              "      <th>3</th>\n",
              "      <td>4</td>\n",
              "      <td>68.22</td>\n",
              "      <td>142.34</td>\n",
              "    </tr>\n",
              "    <tr>\n",
              "      <th>4</th>\n",
              "      <td>5</td>\n",
              "      <td>67.79</td>\n",
              "      <td>144.30</td>\n",
              "    </tr>\n",
              "  </tbody>\n",
              "</table>\n",
              "</div>"
            ],
            "text/plain": [
              "   Index   Height(Inches)\"   \"Weight(Pounds)\"\n",
              "0      1             65.78             112.99\n",
              "1      2             71.52             136.49\n",
              "2      3             69.40             153.03\n",
              "3      4             68.22             142.34\n",
              "4      5             67.79             144.30"
            ]
          },
          "metadata": {
            "tags": []
          },
          "execution_count": 23
        }
      ]
    },
    {
      "cell_type": "code",
      "metadata": {
        "id": "n9fvG8VRuRKG",
        "colab": {
          "base_uri": "https://localhost:8080/"
        },
        "outputId": "c9385c1e-a96a-426c-e4d6-232625d1dd1e"
      },
      "source": [
        "height = []\r\n",
        "weight = []\r\n",
        "for x in data[' Height(Inches)\"']:\r\n",
        "  height.append(x * 2.54)\r\n",
        "for x in data[' \"Weight(Pounds)\"']:\r\n",
        "  weight.append(x/2.2)\r\n",
        "\r\n",
        "print(weight)"
      ],
      "execution_count": 25,
      "outputs": [
        {
          "output_type": "stream",
          "text": [
            "[51.3590909090909, 62.04090909090909, 69.5590909090909, 64.7, 65.5909090909091, 56.04545454545454, 64.31363636363636, 62.027272727272724, 51.07727272727273, 54.849999999999994, 57.93181818181818, 51.881818181818176, 57.095454545454544, 55.66363636363636, 52.768181818181816, 63.63636363636363, 58.86363636363636, 64.98636363636363, 62.68181818181818, 56.38181818181818, 64.21818181818182, 65.24545454545454, 44.5, 58.86363636363636, 64.47727272727272, 58.96363636363636, 64.73636363636362, 59.79545454545455, 49.240909090909085, 51.768181818181816, 46.954545454545446, 54.88636363636363, 57.17727272727272, 61.918181818181814, 63.68181818181817, 58.522727272727266, 64.45454545454545, 55.10454545454545, 59.704545454545446, 48.50454545454545, 56.527272727272724, 56.75454545454545, 63.48636363636363, 62.44090909090909, 48.38636363636363, 58.52727272727272, 66.21818181818182, 53.099999999999994, 65.28181818181818, 61.33181818181818, 66.82727272727273, 57.422727272727265, 57.03636363636363, 52.59545454545454, 56.131818181818176, 67.22272727272725, 70.86363636363636, 58.213636363636354, 54.25909090909091, 60.82272727272727, 58.51363636363635, 62.52272727272727, 58.98181818181817, 58.55454545454545, 61.5090909090909, 49.82272727272727, 64.7590909090909, 60.340909090909086, 47.059090909090905, 56.695454545454545, 58.777272727272724, 60.918181818181814, 63.81818181818181, 46.74545454545454, 58.41818181818182, 54.68181818181817, 62.99999999999999, 60.43636363636364, 52.554545454545455, 55.69090909090909, 61.19545454545454, 55.40909090909091, 70.62727272727273, 58.6090909090909, 58.68181818181817, 63.39545454545454, 64.04090909090908, 59.81363636363636, 55.054545454545455, 59.77727272727272, 62.06818181818182, 64.31363636363636, 63.913636363636364, 50.97272727272727, 60.663636363636364, 59.90909090909091, 54.559090909090905, 55.954545454545446, 58.245454545454535, 52.490909090909085, 46.40454545454545, 59.24999999999999, 60.99090909090909, 44.836363636363636, 52.07272727272727, 56.131818181818176, 55.93181818181817, 57.490909090909085, 58.37272727272726, 57.813636363636355, 55.48181818181818, 58.00454545454545, 59.83636363636363, 50.86363636363636, 55.47272727272727, 58.43181818181818, 60.309090909090905, 61.845454545454544, 52.699999999999996, 62.22727272727273, 54.490909090909085, 49.55, 58.304545454545455, 61.495454545454535, 48.57272727272727, 56.04090909090909, 49.777272727272724, 54.23181818181818, 63.74545454545454, 60.89999999999999, 60.263636363636365, 59.4090909090909, 52.527272727272724, 56.268181818181816, 58.245454545454535, 61.8, 53.01363636363636, 57.64545454545454, 68.81363636363635, 59.27272727272727, 61.913636363636364, 51.54545454545455, 56.96818181818181, 57.990909090909085, 48.709090909090904, 52.93636363636363, 60.836363636363636, 51.31363636363636, 59.43636363636363, 62.61818181818181, 57.0, 62.94090909090909, 54.91818181818181, 63.70454545454545, 62.154545454545456, 48.23181818181818, 72.25454545454545, 49.449999999999996, 63.08181818181818, 52.68636363636363, 66.49545454545454, 49.94545454545454, 63.20454545454545, 54.5, 58.32272727272727, 57.83636363636363, 52.377272727272725, 56.72727272727272, 57.70454545454545, 50.57727272727272, 55.73181818181818, 56.459090909090904, 56.65909090909091, 54.32727272727272, 63.31818181818182, 47.65, 55.92727272727272, 54.04090909090909, 55.22272727272727, 54.20454545454545, 61.372727272727275, 52.83181818181818, 49.62272727272727, 56.46363636363636, 64.16363636363636, 58.70454545454545, 58.12272727272727, 54.96363636363636, 58.02272727272727, 46.12272727272727, 65.90454545454546, 50.43181818181818, 60.39090909090909, 66.51818181818182, 66.17727272727272, 54.92727272727272, 52.627272727272725, 58.31818181818182, 57.94090909090909, 58.12727272727272]\n"
          ],
          "name": "stdout"
        }
      ]
    },
    {
      "cell_type": "code",
      "metadata": {
        "id": "0XH5QyHsupcX"
      },
      "source": [
        "list = {'Height': height,\r\n",
        "        'Weight': weight\r\n",
        "        }\r\n",
        "df = pd.DataFrame(list, columns=[\"Height\", \"Weight\"])\r\n",
        "df.to_csv('list.csv', index=True)"
      ],
      "execution_count": 26,
      "outputs": []
    },
    {
      "cell_type": "code",
      "metadata": {
        "id": "t1Q3M9D_wv0O",
        "colab": {
          "base_uri": "https://localhost:8080/",
          "height": 195
        },
        "outputId": "0b9a6103-085e-4b55-b940-9606436f535d"
      },
      "source": [
        "data = pd.read_csv(\"list.csv\")\r\n",
        "data.head()"
      ],
      "execution_count": 27,
      "outputs": [
        {
          "output_type": "execute_result",
          "data": {
            "text/html": [
              "<div>\n",
              "<style scoped>\n",
              "    .dataframe tbody tr th:only-of-type {\n",
              "        vertical-align: middle;\n",
              "    }\n",
              "\n",
              "    .dataframe tbody tr th {\n",
              "        vertical-align: top;\n",
              "    }\n",
              "\n",
              "    .dataframe thead th {\n",
              "        text-align: right;\n",
              "    }\n",
              "</style>\n",
              "<table border=\"1\" class=\"dataframe\">\n",
              "  <thead>\n",
              "    <tr style=\"text-align: right;\">\n",
              "      <th></th>\n",
              "      <th>Unnamed: 0</th>\n",
              "      <th>Height</th>\n",
              "      <th>Weight</th>\n",
              "    </tr>\n",
              "  </thead>\n",
              "  <tbody>\n",
              "    <tr>\n",
              "      <th>0</th>\n",
              "      <td>0</td>\n",
              "      <td>167.0812</td>\n",
              "      <td>51.359091</td>\n",
              "    </tr>\n",
              "    <tr>\n",
              "      <th>1</th>\n",
              "      <td>1</td>\n",
              "      <td>181.6608</td>\n",
              "      <td>62.040909</td>\n",
              "    </tr>\n",
              "    <tr>\n",
              "      <th>2</th>\n",
              "      <td>2</td>\n",
              "      <td>176.2760</td>\n",
              "      <td>69.559091</td>\n",
              "    </tr>\n",
              "    <tr>\n",
              "      <th>3</th>\n",
              "      <td>3</td>\n",
              "      <td>173.2788</td>\n",
              "      <td>64.700000</td>\n",
              "    </tr>\n",
              "    <tr>\n",
              "      <th>4</th>\n",
              "      <td>4</td>\n",
              "      <td>172.1866</td>\n",
              "      <td>65.590909</td>\n",
              "    </tr>\n",
              "  </tbody>\n",
              "</table>\n",
              "</div>"
            ],
            "text/plain": [
              "   Unnamed: 0    Height     Weight\n",
              "0           0  167.0812  51.359091\n",
              "1           1  181.6608  62.040909\n",
              "2           2  176.2760  69.559091\n",
              "3           3  173.2788  64.700000\n",
              "4           4  172.1866  65.590909"
            ]
          },
          "metadata": {
            "tags": []
          },
          "execution_count": 27
        }
      ]
    },
    {
      "cell_type": "code",
      "metadata": {
        "id": "PRItTjbM0Uyw",
        "colab": {
          "base_uri": "https://localhost:8080/",
          "height": 295
        },
        "outputId": "1ec58e11-3c27-4d81-9d23-dfd56e7db723"
      },
      "source": [
        "from matplotlib import pyplot as plt\r\n",
        "plt.title(\"Height and weight\")\r\n",
        "plt.xlabel(\"Height\")\r\n",
        "plt.ylabel(\"Weight\")\r\n",
        "plt.scatter(list[\"Height\"], list[\"Weight\"], label='data')\r\n",
        "plt.savefig(\"thisplot.png\")"
      ],
      "execution_count": 32,
      "outputs": [
        {
          "output_type": "display_data",
          "data": {
            "image/png": "[encoded data removed]",
            "text/plain": [
              "<Figure size 432x288 with 1 Axes>"
            ]
          },
          "metadata": {
            "tags": [],
            "needs_background": "light"
          }
        }
      ]
    },
    {
      "cell_type": "code",
      "metadata": {
        "colab": {
          "base_uri": "https://localhost:8080/"
        },
        "id": "DuGU4Q9sfH5b",
        "outputId": "692ec52b-2649-41dc-b67e-59549b19f6db"
      },
      "source": [
        "min_height = min(list[\"Height\"])\r\n",
        "min_weight = min(list[\"Weight\"])\r\n",
        "max_height = max(list[\"Height\"])\r\n",
        "max_weight = max(list[\"Weight\"])\r\n",
        "avg_height = sum(list[\"Height\"])/len(list[\"Height\"])\r\n",
        "avg_weight = sum(list[\"Weight\"])/len(list[\"Weight\"])\r\n",
        "print(f\"Height::: min - {min_height} max - {max_height} avg - {avg_height}\")\r\n",
        "print(f\"Weight::: min - {min_weight} max - {max_weight} avg - {avg_weight}\")"
      ],
      "execution_count": 34,
      "outputs": [
        {
          "output_type": "stream",
          "text": [
            "Height::: min - 161.1122 max - 187.70600000000002 avg - 172.5924919999999\n",
            "Weight::: min - 44.5 max - 72.25454545454545 avg - 57.828159090909054\n"
          ],
          "name": "stdout"
        }
      ]
    },
    {
      "cell_type": "code",
      "metadata": {
        "colab": {
          "base_uri": "https://localhost:8080/",
          "height": 212
        },
        "id": "Zf-a2JIrf8jH",
        "outputId": "f968a0a7-4d31-4818-bc14-5391de0c8276"
      },
      "source": [
        "import matplotlib.pyplot as plt\r\n",
        "import numpy as np\r\n",
        "from random import randrange\r\n",
        "one_long_ass_array_of_binary_values = []\r\n",
        "for row in range(0, 10000):\r\n",
        "    one_long_ass_array_of_binary_values.append([randrange(2) for x in range(0, 100)])\r\n",
        "#for row in one_long_ass_array_of_binary_values:\r\n",
        "#  print(row)\r\n",
        "sum_each_row = []\r\n",
        "for row in one_long_ass_array_of_binary_values:\r\n",
        "  sum_each_row.append(sum(row))\r\n",
        "axs[0].hist(range(0, 100), bins=100)\r\n",
        "axs[1].hist(sum_each_row, bins=100)\r\n"
      ],
      "execution_count": 40,
      "outputs": [
        {
          "output_type": "error",
          "ename": "NameError",
          "evalue": "ignored",
          "traceback": [
            "\u001b[0;31m---------------------------------------------------------------------------\u001b[0m",
            "\u001b[0;31mNameError\u001b[0m                                 Traceback (most recent call last)",
            "\u001b[0;32m<ipython-input-40-9a56b30ae1ff>\u001b[0m in \u001b[0;36m<module>\u001b[0;34m()\u001b[0m\n\u001b[1;32m      8\u001b[0m \u001b[0;32mfor\u001b[0m \u001b[0mrow\u001b[0m \u001b[0;32min\u001b[0m \u001b[0mone_long_ass_array_of_binary_values\u001b[0m\u001b[0;34m:\u001b[0m\u001b[0;34m\u001b[0m\u001b[0;34m\u001b[0m\u001b[0m\n\u001b[1;32m      9\u001b[0m   \u001b[0msum_each_row\u001b[0m\u001b[0;34m.\u001b[0m\u001b[0mappend\u001b[0m\u001b[0;34m(\u001b[0m\u001b[0msum\u001b[0m\u001b[0;34m(\u001b[0m\u001b[0mrow\u001b[0m\u001b[0;34m)\u001b[0m\u001b[0;34m)\u001b[0m\u001b[0;34m\u001b[0m\u001b[0;34m\u001b[0m\u001b[0m\n\u001b[0;32m---> 10\u001b[0;31m \u001b[0maxs\u001b[0m\u001b[0;34m[\u001b[0m\u001b[0;36m0\u001b[0m\u001b[0;34m]\u001b[0m\u001b[0;34m.\u001b[0m\u001b[0mhist\u001b[0m\u001b[0;34m(\u001b[0m\u001b[0mrange\u001b[0m\u001b[0;34m(\u001b[0m\u001b[0;36m0\u001b[0m\u001b[0;34m,\u001b[0m \u001b[0;36m100\u001b[0m\u001b[0;34m)\u001b[0m\u001b[0;34m,\u001b[0m \u001b[0mbins\u001b[0m\u001b[0;34m=\u001b[0m\u001b[0;36m100\u001b[0m\u001b[0;34m)\u001b[0m\u001b[0;34m\u001b[0m\u001b[0;34m\u001b[0m\u001b[0m\n\u001b[0m\u001b[1;32m     11\u001b[0m \u001b[0maxs\u001b[0m\u001b[0;34m[\u001b[0m\u001b[0;36m1\u001b[0m\u001b[0;34m]\u001b[0m\u001b[0;34m.\u001b[0m\u001b[0mhist\u001b[0m\u001b[0;34m(\u001b[0m\u001b[0msum_each_row\u001b[0m\u001b[0;34m,\u001b[0m \u001b[0mbins\u001b[0m\u001b[0;34m=\u001b[0m\u001b[0;36m100\u001b[0m\u001b[0;34m)\u001b[0m\u001b[0;34m\u001b[0m\u001b[0;34m\u001b[0m\u001b[0m\n",
            "\u001b[0;31mNameError\u001b[0m: name 'axs' is not defined"
          ]
        }
      ]
    }
  ]
}